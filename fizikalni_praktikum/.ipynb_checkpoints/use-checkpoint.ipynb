{
 "cells": [
  {
   "cell_type": "code",
   "execution_count": 1,
   "metadata": {},
   "outputs": [],
   "source": [
    "%load_ext autoreload"
   ]
  },
  {
   "cell_type": "code",
   "execution_count": 2,
   "metadata": {},
   "outputs": [],
   "source": [
    "%autoreload 2"
   ]
  },
  {
   "cell_type": "code",
   "execution_count": 3,
   "metadata": {},
   "outputs": [],
   "source": [
    "from tabela_negotovosti_v1 import Negotovost\n",
    "\n",
    "data = [\n",
    "        ('alpha', 3.293, 0.001),\n",
    "        ('rg', 0.041/2, 0.0001/2),\n",
    "        ('m', 0.05, 0.001),\n",
    "        ('g', 9.81066, 0),\n",
    "        ('b', 9.81066, 1),\n",
    "        ('c', 9.81066, 2),\n",
    "        ('d', 9.81066, 3),\n",
    "            ('b', 9.81066, 1),\n",
    "        ('c', 9.81066, 2),\n",
    "        ('d', 9.81066, 3),\n",
    "    ]\n",
    "\n",
    "function = 'm*(rg*g-rg^2*alpha)/alpha+b+c+d'"
   ]
  },
  {
   "cell_type": "code",
   "execution_count": 4,
   "metadata": {},
   "outputs": [],
   "source": [
    "negotovost = Negotovost(data,function,floating_points=3)"
   ]
  },
  {
   "cell_type": "code",
   "execution_count": 5,
   "metadata": {},
   "outputs": [
    {
     "name": "stdout",
     "output_type": "stream",
     "text": [
      "[('alpha', 3.293, 0.001), ('rg', 0.0205, 5e-05), ('m', 0.05, 0.001), ('g', 9.81066, 0), ('b', 9.81066, 1), ('c', 9.81066, 2), ('d', 9.81066, 3)]\n"
     ]
    }
   ],
   "source": [
    "print(negotovost)"
   ]
  },
  {
   "cell_type": "code",
   "execution_count": 6,
   "metadata": {},
   "outputs": [
    {
     "data": {
      "text/plain": [
       "(29.435012715559523, 3.74165738727289)"
      ]
     },
     "execution_count": 6,
     "metadata": {},
     "output_type": "execute_result"
    }
   ],
   "source": [
    "negotovost.calculate_error()"
   ]
  },
  {
   "cell_type": "code",
   "execution_count": 7,
   "metadata": {
    "scrolled": false
   },
   "outputs": [
    {
     "data": {
      "text/html": [
       "<style>table.dataframe{font-size: 16px;}</style>"
      ],
      "text/plain": [
       "<IPython.core.display.HTML object>"
      ]
     },
     "metadata": {},
     "output_type": "display_data"
    },
    {
     "data": {
      "text/latex": [
       "$v=b + c + d + \\frac{m \\left(- \\alpha rg^{2} + g rg\\right)}{\\alpha}$"
      ],
      "text/plain": [
       "<IPython.core.display.Latex object>"
      ]
     },
     "metadata": {},
     "output_type": "display_data"
    },
    {
     "data": {
      "text/html": [
       "<div>\n",
       "<style scoped>\n",
       "    .dataframe tbody tr th:only-of-type {\n",
       "        vertical-align: middle;\n",
       "    }\n",
       "\n",
       "    .dataframe tbody tr th {\n",
       "        vertical-align: top;\n",
       "    }\n",
       "\n",
       "    .dataframe thead th {\n",
       "        text-align: right;\n",
       "    }\n",
       "</style>\n",
       "<table border=\"1\" class=\"dataframe\">\n",
       "  <thead>\n",
       "    <tr style=\"text-align: right;\">\n",
       "      <th></th>\n",
       "      <th>$\\frac{\\partial v}{\\partial x_i}$</th>\n",
       "      <th>$\\sigma_i$</th>\n",
       "      <th>$\\sigma_i \\cdot \\frac{\\partial v}{\\partial x_i}$</th>\n",
       "    </tr>\n",
       "  </thead>\n",
       "  <tbody>\n",
       "    <tr>\n",
       "      <th>$\\alpha$</th>\n",
       "      <td>$- \\frac{m rg^{2}}{\\alpha} - \\frac{m \\left(- \\alpha rg^{2} + g rg\\right)}{\\alpha^{2}}$</td>\n",
       "      <td>1.000E-03</td>\n",
       "      <td>-9.273E-07</td>\n",
       "    </tr>\n",
       "    <tr>\n",
       "      <th>$rg$</th>\n",
       "      <td>$\\frac{m \\left(- 2 \\alpha rg + g\\right)}{\\alpha}$</td>\n",
       "      <td>5.000E-05</td>\n",
       "      <td>7.346E-06</td>\n",
       "    </tr>\n",
       "    <tr>\n",
       "      <th>$m$</th>\n",
       "      <td>$\\frac{- \\alpha rg^{2} + g rg}{\\alpha}$</td>\n",
       "      <td>1.000E-03</td>\n",
       "      <td>6.065E-05</td>\n",
       "    </tr>\n",
       "    <tr>\n",
       "      <th>$b$</th>\n",
       "      <td>$1$</td>\n",
       "      <td>1</td>\n",
       "      <td>1.0</td>\n",
       "    </tr>\n",
       "    <tr>\n",
       "      <th>$c$</th>\n",
       "      <td>$1$</td>\n",
       "      <td>2</td>\n",
       "      <td>2.0</td>\n",
       "    </tr>\n",
       "    <tr>\n",
       "      <th>$d$</th>\n",
       "      <td>$1$</td>\n",
       "      <td>3</td>\n",
       "      <td>3.0</td>\n",
       "    </tr>\n",
       "  </tbody>\n",
       "</table>\n",
       "</div>"
      ],
      "text/plain": [
       "                                                               $\\frac{\\partial v}{\\partial x_i}$  \\\n",
       "$\\alpha$  $- \\frac{m rg^{2}}{\\alpha} - \\frac{m \\left(- \\alpha rg^{2} + g rg\\right)}{\\alpha^{2}}$   \n",
       "$rg$                                           $\\frac{m \\left(- 2 \\alpha rg + g\\right)}{\\alpha}$   \n",
       "$m$                                                      $\\frac{- \\alpha rg^{2} + g rg}{\\alpha}$   \n",
       "$b$                                                                                          $1$   \n",
       "$c$                                                                                          $1$   \n",
       "$d$                                                                                          $1$   \n",
       "\n",
       "         $\\sigma_i$ $\\sigma_i \\cdot \\frac{\\partial v}{\\partial x_i}$  \n",
       "$\\alpha$  1.000E-03                                       -9.273E-07  \n",
       "$rg$      5.000E-05                                        7.346E-06  \n",
       "$m$       1.000E-03                                        6.065E-05  \n",
       "$b$               1                                              1.0  \n",
       "$c$               2                                              2.0  \n",
       "$d$               3                                              3.0  "
      ]
     },
     "metadata": {},
     "output_type": "display_data"
    },
    {
     "data": {
      "text/latex": [
       "$v = (2.944E01 \\pm 3.742E00) \\:\\frac{m}{s}$"
      ],
      "text/plain": [
       "<IPython.core.display.Latex object>"
      ]
     },
     "metadata": {},
     "output_type": "display_data"
    }
   ],
   "source": [
    "negotovost.draw_table(units=r'\\frac{m}{s}',text_size=16)"
   ]
  },
  {
   "cell_type": "code",
   "execution_count": 8,
   "metadata": {},
   "outputs": [
    {
     "name": "stdout",
     "output_type": "stream",
     "text": [
      "2.944E01 +- 3.742E00\n"
     ]
    },
    {
     "data": {
      "image/png": "[encoded data removed]",
      "text/plain": [
       "<Figure size 432x288 with 1 Axes>"
      ]
     },
     "metadata": {},
     "output_type": "display_data"
    }
   ],
   "source": [
    "negotovost.draw_table(display_img=True)"
   ]
  }
 ],
 "metadata": {
  "kernelspec": {
   "display_name": "Python 3",
   "language": "python",
   "name": "python3"
  },
  "language_info": {
   "codemirror_mode": {
    "name": "ipython",
    "version": 3
   },
   "file_extension": ".py",
   "mimetype": "text/x-python",
   "name": "python",
   "nbconvert_exporter": "python",
   "pygments_lexer": "ipython3",
   "version": "3.7.6"
  }
 },
 "nbformat": 4,
 "nbformat_minor": 4
}
